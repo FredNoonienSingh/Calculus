{
 "cells": [
  {
   "cell_type": "markdown",
   "metadata": {},
   "source": [
    "# Zahlenbereiche"
   ]
  },
  {
   "cell_type": "markdown",
   "metadata": {},
   "source": [
    "## Ganze Zahlen $\\mathbb{Z}$\n",
    "Beschreibt den Bereich der Zahlen zwischen $- \\infty$ und $\\infty$ in Schritten von 1.\n",
    "\n",
    "## Natürliche Zahlen $\\mathbb{N}$\n",
    "Der positive Teil der ganzen Zahlen. \n",
    "\n",
    "\n",
    "## Reelle Zahlen $\\mathbb{R}$\n",
    "\n",
    "Der Bereich der ganzen Zahlen erweitert um $\\mathbb{Q}$ und $\\mathbb{I}$ \n",
    "\n",
    "## Rationale Zahlen $\\mathbb{Q}$\n",
    "\n",
    "Der Raum von Zahlen, die als Bruch zweier natürlichen Zahlen dargestellt werden können.\n",
    "$\\mathbb{Q}_+$ ist $\\mathbb{Q}$ ohne negative Brüche.\n",
    "\n",
    "## Irrationale Zahlen $\\mathbb{I}$\n",
    "\n",
    "Der Raum von nicht ganzen Zahlen, die nicht als Bruch zweier natürlichen Zahlen angegeben werden können.\n",
    "\n",
    "## Komplexe Zahlen $\\mathbb{C}$\n",
    "\n",
    "$$a+bi $$\n",
    "$$ i = \\sqrt{-1}$$\n",
    "\n"
   ]
  }
 ],
 "metadata": {
  "language_info": {
   "name": "python"
  }
 },
 "nbformat": 4,
 "nbformat_minor": 2
}
