{
 "cells": [
  {
   "cell_type": "markdown",
   "metadata": {
    "vscode": {
     "languageId": "plaintext"
    }
   },
   "source": [
    "## Was sind Jupyter Notebooks?\n",
    "\n",
    "Stell dir Jupyter Notebooks als interaktive digitale Notizbücher vor, in denen du nicht nur Text schreiben, sondern auch direkt Code ausführen kannst. Das ist besonders praktisch für Aufgaben wie Datenanalyse, Programmieren und das Erstellen von Präsentationen.\n",
    "\n",
    "Warum Visual Studio Code?\n",
    "\n",
    "Visual Studio Code (kurz: VS Code) ist ein kostenloser und beliebter Code-Editor, der sich hervorragend für die Arbeit mit Jupyter Notebooks eignet. Er bietet eine intuitive Benutzeroberfläche und viele hilfreiche Funktionen.\n",
    "\n",
    "Schritt für Schritt: Jupyter Notebooks mit VS Code auf Windows erstellen und bearbeiten\n",
    "Installation von VS Code:\n",
    "\n",
    "Lade VS Code von der offiziellen Website (https://code.visualstudio.com/) herunter und installiere es auf deinem Windows-Computer.\n",
    "Installation der Python-Erweiterung:\n",
    "\n",
    "Öffne VS Code.\n",
    "Klicke links unten auf die Erweiterungsansicht (viereckiges Symbol).\n",
    "Suche nach \"Python\" und installiere die Erweiterung von Microsoft.\n",
    "Erstellen eines neuen Jupyter Notebooks:\n",
    "\n",
    "Öffne in VS Code einen neuen Ordner für deine Projekte.\n",
    "Klicke oben rechts auf das Plus-Symbol und wähle \"Neues Jupyter Notebook\".\n",
    "Wähle die gewünschte Python-Umgebung aus (wird automatisch erstellt, wenn du noch keine hast).\n",
    "Bearbeiten des Notebooks:\n",
    "\n",
    "Zellen: Ein Notebook besteht aus Zellen. Es gibt zwei Haupttypen:\n",
    "Code-Zellen: Hier schreibst du deinen Python-Code.\n",
    "Markdown-Zellen: Hier kannst du Text formatieren, Überschriften erstellen und sogar Gleichungen einfügen.\n",
    "Ausführen von Code: Klicke auf die Schaltfläche \"Ausführen\" (meist ein Dreieck) in einer Code-Zelle, um den Code auszuführen.\n",
    "Hinzufügen von Zellen: Klicke auf das Plus-Symbol, um eine neue Zelle über oder unter der aktuellen Zelle hinzuzufügen.\n",
    "Zellentypen ändern: Klicke auf das Dropdown-Menü, um zwischen Code- und Markdown-Zellen zu wechseln."
   ]
  }
 ],
 "metadata": {
  "language_info": {
   "name": "python"
  }
 },
 "nbformat": 4,
 "nbformat_minor": 2
}
