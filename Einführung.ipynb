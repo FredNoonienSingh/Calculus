{
 "cells": [
  {
   "cell_type": "markdown",
   "metadata": {},
   "source": [
    "# Einführung "
   ]
  },
  {
   "cell_type": "markdown",
   "metadata": {
    "vscode": {
     "languageId": "plaintext"
    }
   },
   "source": [
    "Herr Zeh hat mich darum gebeten, einmal vorzuführen wie meine Notizen im Mathematik Untericht aussehen und noch einmal anzubieten eine Möglichkeit zu schaffen gemeinsam an einem geteiltem Notespace zu arbeiten. \n",
    "Daher habe ich diese Seite erstellt über den QR Code könnt ihr die Seite online abrufen:\n",
    "\n",
    "\n",
    "<div align=center>\n",
    "\n",
    "<img src=\"https://i.ibb.co/wQKPmTh/Mathe-Pages.png\" alt=\"Vim\" width=\"512\" heigth=\"512\" />\n",
    "\n",
    "</div>"
   ]
  },
  {
   "cell_type": "markdown",
   "metadata": {},
   "source": [
    "\n",
    "Wie zuvor erwähnt handelt es sich hierbei erstmal nur um eine Demo, sollte ernstahftes Interesse an der Mitarbeit an diesem Projekt bestehen, werden die entsprechenen Guides so ausgebaut, das jeder in der Lage sein sollte Beiträge zu verfassen. \n",
    "Unabhängig davon, werde ich in den kommenden Tagen, alle meine Notizen zum Themengebiet für diese Plattform anpassen und hier veröffentlichen."
   ]
  },
  {
   "cell_type": "markdown",
   "metadata": {},
   "source": []
  }
 ],
 "metadata": {
  "language_info": {
   "name": "python"
  }
 },
 "nbformat": 4,
 "nbformat_minor": 2
}
