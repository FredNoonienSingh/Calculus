{
 "cells": [
  {
   "cell_type": "markdown",
   "metadata": {},
   "source": [
    "# Normale \n",
    "\n",
    "Definition:\n",
    "\n",
    "Sei $f$ eine differenzierbare Funktion und $P(x,f(x))$ ein Punkt auf dem Graphen von $f$. Die Normale an den Graphen von $f$ im Punkt $P$ ist die Gerade, die durch $P$ verläuft und senkrecht zur Tangente an $f$ in $P$ steht.\n",
    "\n",
    "##### Normale $n$ in $P(u | f(u))$\n",
    "\n",
    "$$\n",
    "\\Large{\n",
    "\\begin{aligned} \n",
    "y = - \\frac{1}{f'(u)}(x-u) +f(u)\n",
    "\\end{aligned}\n",
    "}\n",
    "$$\n",
    "\n",
    "\n"
   ]
  }
 ],
 "metadata": {
  "language_info": {
   "name": "python"
  }
 },
 "nbformat": 4,
 "nbformat_minor": 2
}
