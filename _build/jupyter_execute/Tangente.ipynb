{
 "cells": [
  {
   "cell_type": "markdown",
   "metadata": {},
   "source": [
    "# Tangente und allgemeine Tangentengleichung \n",
    "\n",
    "__Definition__:\n",
    "> Als Tangente an den Graphen von $f$ im Punkt $P$ $(a|f(a))$ bezeichnet man diejenige Gerade, die den Punkt $P$ enthält und die Steigung $f´(a)$  hat. \n",
    "> *Satz*:\n",
    "> Eine Gleichung der Tangente erhält man mit der __allgemeinen Tangentengleichung__:\n",
    "> $$\n",
    "\\Large{\n",
    "\\begin{aligned} \n",
    "y = f´(a)(x-a) + f(a)\n",
    "\\end{aligned}\n",
    "}\n",
    "$$ "
   ]
  },
  {
   "cell_type": "markdown",
   "metadata": {},
   "source": [
    "## Allgemeine Tangentengleichung Beweis\n",
    "\n",
    "Nehmen wir an $f(x)$ sei eine differenzierbare Funktion durch den Punkt $P(a|f(a))$ und gesucht die Tangente zu $f$ am Punkt $p$\n",
    "\n",
    "Eine Tangente ist per Defintion __immer__ eine daher muss sie sich als: \n",
    "\n",
    "$$\n",
    "\\Large{\n",
    "y=mx+b\n",
    "}\n",
    "$$\n",
    "\n",
    "usdrüken lassen. "
   ]
  },
  {
   "cell_type": "markdown",
   "metadata": {},
   "source": [
    "Da die Tangente die selbe Steigung an $P$ hat wie $f$ können wir folgern: \n",
    "\n",
    "$$\n",
    "\\Large{\n",
    "y = f'(a) \\cdot x + b\n",
    "}\n",
    "$$"
   ]
  },
  {
   "cell_type": "markdown",
   "metadata": {},
   "source": [
    "Um die Gleichung vollständig aufstellen zu können benötigen wir $b$ den $\\textrm{y-Achsenabschnitt}$ da wir wissen, das $P \\in f$ gilt: \n",
    "\n",
    "$$\n",
    "\\Large{\n",
    "\n",
    "b = f(a) -f'(a) \\cdot a\n",
    "\n",
    "}\n",
    "$$\n",
    "\n",
    "Dies können wir als Position nach $a$-Schritten - Schrittgröße mal Anzahl der Schritte verstehen. "
   ]
  },
  {
   "cell_type": "markdown",
   "metadata": {
    "vscode": {
     "languageId": "plaintext"
    }
   },
   "source": [
    "Aus beidem folgt: \n",
    "\n",
    "$$\n",
    "\\Large{\n",
    " y = f'(a) \\cdot x + f(a) - f(a) \\cdot a\n",
    "}\n",
    "$$\n",
    "\n",
    "\n",
    "oder vereinfacht: \n",
    "\n",
    "\n",
    "$$\\Huge{\n",
    "\\underline{\n",
    "y = f'(a)(x-a)+f(a)\n",
    "}\n",
    "}\n",
    "$$\n"
   ]
  }
 ],
 "metadata": {
  "language_info": {
   "name": "python"
  }
 },
 "nbformat": 4,
 "nbformat_minor": 2
}